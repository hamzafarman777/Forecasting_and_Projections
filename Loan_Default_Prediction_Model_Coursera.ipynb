{
 "cells": [
  {
   "cell_type": "code",
   "execution_count": 2,
   "id": "94e85990",
   "metadata": {},
   "outputs": [],
   "source": [
    "import pandas as pd\n",
    "import numpy as np\n",
    "import random\n",
    "import matplotlib.pyplot as plt\n",
    "import seaborn as sns\n",
    "\n",
    "from sklearn.model_selection import StratifiedKFold, cross_val_score\n",
    "from sklearn.preprocessing import StandardScaler, OneHotEncoder\n",
    "from sklearn.compose import ColumnTransformer\n",
    "from sklearn.pipeline import Pipeline\n",
    "from sklearn.linear_model import LogisticRegression\n",
    "from sklearn.tree import DecisionTreeClassifier\n",
    "from sklearn.ensemble import RandomForestClassifier, GradientBoostingClassifier\n",
    "from xgboost import XGBClassifier\n",
    "from lightgbm import LGBMClassifier\n",
    "from catboost import CatBoostClassifier\n",
    "from sklearn.metrics import roc_auc_score\n"
   ]
  },
  {
   "cell_type": "code",
   "execution_count": 3,
   "id": "5932f1ef",
   "metadata": {},
   "outputs": [],
   "source": [
    "SEED = 42\n",
    "np.random.seed(SEED)\n",
    "random.seed(SEED)\n"
   ]
  },
  {
   "cell_type": "code",
   "execution_count": 4,
   "id": "b2284113",
   "metadata": {},
   "outputs": [],
   "source": [
    "train_df = pd.read_csv(\"train.csv\")\n",
    "test_df = pd.read_csv(\"test.csv\")"
   ]
  },
  {
   "cell_type": "code",
   "execution_count": 5,
   "id": "99385609",
   "metadata": {},
   "outputs": [
    {
     "data": {
      "text/html": [
       "<div>\n",
       "<style scoped>\n",
       "    .dataframe tbody tr th:only-of-type {\n",
       "        vertical-align: middle;\n",
       "    }\n",
       "\n",
       "    .dataframe tbody tr th {\n",
       "        vertical-align: top;\n",
       "    }\n",
       "\n",
       "    .dataframe thead th {\n",
       "        text-align: right;\n",
       "    }\n",
       "</style>\n",
       "<table border=\"1\" class=\"dataframe\">\n",
       "  <thead>\n",
       "    <tr style=\"text-align: right;\">\n",
       "      <th></th>\n",
       "      <th>LoanID</th>\n",
       "      <th>Age</th>\n",
       "      <th>Income</th>\n",
       "      <th>LoanAmount</th>\n",
       "      <th>CreditScore</th>\n",
       "      <th>MonthsEmployed</th>\n",
       "      <th>NumCreditLines</th>\n",
       "      <th>InterestRate</th>\n",
       "      <th>LoanTerm</th>\n",
       "      <th>DTIRatio</th>\n",
       "      <th>Education</th>\n",
       "      <th>EmploymentType</th>\n",
       "      <th>MaritalStatus</th>\n",
       "      <th>HasMortgage</th>\n",
       "      <th>HasDependents</th>\n",
       "      <th>LoanPurpose</th>\n",
       "      <th>HasCoSigner</th>\n",
       "    </tr>\n",
       "  </thead>\n",
       "  <tbody>\n",
       "    <tr>\n",
       "      <th>0</th>\n",
       "      <td>7RYZGMKJIR</td>\n",
       "      <td>32</td>\n",
       "      <td>131645</td>\n",
       "      <td>43797</td>\n",
       "      <td>802</td>\n",
       "      <td>23</td>\n",
       "      <td>2</td>\n",
       "      <td>6.10</td>\n",
       "      <td>24</td>\n",
       "      <td>0.13</td>\n",
       "      <td>High School</td>\n",
       "      <td>Full-time</td>\n",
       "      <td>Divorced</td>\n",
       "      <td>Yes</td>\n",
       "      <td>No</td>\n",
       "      <td>Other</td>\n",
       "      <td>No</td>\n",
       "    </tr>\n",
       "    <tr>\n",
       "      <th>1</th>\n",
       "      <td>JDL5RH07AM</td>\n",
       "      <td>61</td>\n",
       "      <td>134312</td>\n",
       "      <td>18402</td>\n",
       "      <td>369</td>\n",
       "      <td>87</td>\n",
       "      <td>2</td>\n",
       "      <td>12.99</td>\n",
       "      <td>60</td>\n",
       "      <td>0.59</td>\n",
       "      <td>High School</td>\n",
       "      <td>Self-employed</td>\n",
       "      <td>Single</td>\n",
       "      <td>No</td>\n",
       "      <td>No</td>\n",
       "      <td>Business</td>\n",
       "      <td>Yes</td>\n",
       "    </tr>\n",
       "    <tr>\n",
       "      <th>2</th>\n",
       "      <td>STAL716Y79</td>\n",
       "      <td>55</td>\n",
       "      <td>115809</td>\n",
       "      <td>151774</td>\n",
       "      <td>563</td>\n",
       "      <td>3</td>\n",
       "      <td>3</td>\n",
       "      <td>5.51</td>\n",
       "      <td>48</td>\n",
       "      <td>0.82</td>\n",
       "      <td>Bachelor's</td>\n",
       "      <td>Full-time</td>\n",
       "      <td>Single</td>\n",
       "      <td>Yes</td>\n",
       "      <td>Yes</td>\n",
       "      <td>Other</td>\n",
       "      <td>Yes</td>\n",
       "    </tr>\n",
       "    <tr>\n",
       "      <th>3</th>\n",
       "      <td>SO0KKJ3IQB</td>\n",
       "      <td>58</td>\n",
       "      <td>94970</td>\n",
       "      <td>55789</td>\n",
       "      <td>337</td>\n",
       "      <td>24</td>\n",
       "      <td>1</td>\n",
       "      <td>23.93</td>\n",
       "      <td>36</td>\n",
       "      <td>0.77</td>\n",
       "      <td>Bachelor's</td>\n",
       "      <td>Unemployed</td>\n",
       "      <td>Divorced</td>\n",
       "      <td>No</td>\n",
       "      <td>No</td>\n",
       "      <td>Business</td>\n",
       "      <td>No</td>\n",
       "    </tr>\n",
       "    <tr>\n",
       "      <th>4</th>\n",
       "      <td>T99CWTYDCP</td>\n",
       "      <td>63</td>\n",
       "      <td>71727</td>\n",
       "      <td>189798</td>\n",
       "      <td>451</td>\n",
       "      <td>52</td>\n",
       "      <td>3</td>\n",
       "      <td>22.05</td>\n",
       "      <td>48</td>\n",
       "      <td>0.44</td>\n",
       "      <td>PhD</td>\n",
       "      <td>Unemployed</td>\n",
       "      <td>Single</td>\n",
       "      <td>Yes</td>\n",
       "      <td>No</td>\n",
       "      <td>Auto</td>\n",
       "      <td>No</td>\n",
       "    </tr>\n",
       "  </tbody>\n",
       "</table>\n",
       "</div>"
      ],
      "text/plain": [
       "       LoanID  Age  Income  LoanAmount  CreditScore  MonthsEmployed  \\\n",
       "0  7RYZGMKJIR   32  131645       43797          802              23   \n",
       "1  JDL5RH07AM   61  134312       18402          369              87   \n",
       "2  STAL716Y79   55  115809      151774          563               3   \n",
       "3  SO0KKJ3IQB   58   94970       55789          337              24   \n",
       "4  T99CWTYDCP   63   71727      189798          451              52   \n",
       "\n",
       "   NumCreditLines  InterestRate  LoanTerm  DTIRatio    Education  \\\n",
       "0               2          6.10        24      0.13  High School   \n",
       "1               2         12.99        60      0.59  High School   \n",
       "2               3          5.51        48      0.82   Bachelor's   \n",
       "3               1         23.93        36      0.77   Bachelor's   \n",
       "4               3         22.05        48      0.44          PhD   \n",
       "\n",
       "  EmploymentType MaritalStatus HasMortgage HasDependents LoanPurpose  \\\n",
       "0      Full-time      Divorced         Yes            No       Other   \n",
       "1  Self-employed        Single          No            No    Business   \n",
       "2      Full-time        Single         Yes           Yes       Other   \n",
       "3     Unemployed      Divorced          No            No    Business   \n",
       "4     Unemployed        Single         Yes            No        Auto   \n",
       "\n",
       "  HasCoSigner  \n",
       "0          No  \n",
       "1         Yes  \n",
       "2         Yes  \n",
       "3          No  \n",
       "4          No  "
      ]
     },
     "execution_count": 5,
     "metadata": {},
     "output_type": "execute_result"
    }
   ],
   "source": [
    "train_df.head()\n",
    "test_df.head()\n"
   ]
  },
  {
   "cell_type": "code",
   "execution_count": 6,
   "id": "403f5851",
   "metadata": {},
   "outputs": [
    {
     "data": {
      "text/html": [
       "<div>\n",
       "<style scoped>\n",
       "    .dataframe tbody tr th:only-of-type {\n",
       "        vertical-align: middle;\n",
       "    }\n",
       "\n",
       "    .dataframe tbody tr th {\n",
       "        vertical-align: top;\n",
       "    }\n",
       "\n",
       "    .dataframe thead th {\n",
       "        text-align: right;\n",
       "    }\n",
       "</style>\n",
       "<table border=\"1\" class=\"dataframe\">\n",
       "  <thead>\n",
       "    <tr style=\"text-align: right;\">\n",
       "      <th></th>\n",
       "      <th>Age</th>\n",
       "      <th>Income</th>\n",
       "      <th>LoanAmount</th>\n",
       "      <th>CreditScore</th>\n",
       "      <th>MonthsEmployed</th>\n",
       "      <th>NumCreditLines</th>\n",
       "      <th>InterestRate</th>\n",
       "      <th>LoanTerm</th>\n",
       "      <th>DTIRatio</th>\n",
       "    </tr>\n",
       "  </thead>\n",
       "  <tbody>\n",
       "    <tr>\n",
       "      <th>count</th>\n",
       "      <td>109435.000000</td>\n",
       "      <td>109435.000000</td>\n",
       "      <td>109435.000000</td>\n",
       "      <td>109435.000000</td>\n",
       "      <td>109435.000000</td>\n",
       "      <td>109435.000000</td>\n",
       "      <td>109435.000000</td>\n",
       "      <td>109435.000000</td>\n",
       "      <td>109435.000000</td>\n",
       "    </tr>\n",
       "    <tr>\n",
       "      <th>mean</th>\n",
       "      <td>43.536483</td>\n",
       "      <td>82487.391036</td>\n",
       "      <td>127486.538667</td>\n",
       "      <td>574.665948</td>\n",
       "      <td>59.576315</td>\n",
       "      <td>2.501037</td>\n",
       "      <td>13.496206</td>\n",
       "      <td>36.086298</td>\n",
       "      <td>0.500263</td>\n",
       "    </tr>\n",
       "    <tr>\n",
       "      <th>std</th>\n",
       "      <td>15.015927</td>\n",
       "      <td>38966.033421</td>\n",
       "      <td>70703.100952</td>\n",
       "      <td>158.800306</td>\n",
       "      <td>34.548087</td>\n",
       "      <td>1.118149</td>\n",
       "      <td>6.647329</td>\n",
       "      <td>16.928304</td>\n",
       "      <td>0.231246</td>\n",
       "    </tr>\n",
       "    <tr>\n",
       "      <th>min</th>\n",
       "      <td>18.000000</td>\n",
       "      <td>15003.000000</td>\n",
       "      <td>5002.000000</td>\n",
       "      <td>300.000000</td>\n",
       "      <td>0.000000</td>\n",
       "      <td>1.000000</td>\n",
       "      <td>2.000000</td>\n",
       "      <td>12.000000</td>\n",
       "      <td>0.100000</td>\n",
       "    </tr>\n",
       "    <tr>\n",
       "      <th>25%</th>\n",
       "      <td>31.000000</td>\n",
       "      <td>48745.000000</td>\n",
       "      <td>66173.500000</td>\n",
       "      <td>437.000000</td>\n",
       "      <td>30.000000</td>\n",
       "      <td>2.000000</td>\n",
       "      <td>7.750000</td>\n",
       "      <td>24.000000</td>\n",
       "      <td>0.300000</td>\n",
       "    </tr>\n",
       "    <tr>\n",
       "      <th>50%</th>\n",
       "      <td>44.000000</td>\n",
       "      <td>82545.000000</td>\n",
       "      <td>127345.000000</td>\n",
       "      <td>575.000000</td>\n",
       "      <td>60.000000</td>\n",
       "      <td>3.000000</td>\n",
       "      <td>13.500000</td>\n",
       "      <td>36.000000</td>\n",
       "      <td>0.500000</td>\n",
       "    </tr>\n",
       "    <tr>\n",
       "      <th>75%</th>\n",
       "      <td>57.000000</td>\n",
       "      <td>116184.000000</td>\n",
       "      <td>188674.000000</td>\n",
       "      <td>712.000000</td>\n",
       "      <td>89.000000</td>\n",
       "      <td>4.000000</td>\n",
       "      <td>19.270000</td>\n",
       "      <td>48.000000</td>\n",
       "      <td>0.700000</td>\n",
       "    </tr>\n",
       "    <tr>\n",
       "      <th>max</th>\n",
       "      <td>69.000000</td>\n",
       "      <td>149999.000000</td>\n",
       "      <td>249995.000000</td>\n",
       "      <td>849.000000</td>\n",
       "      <td>119.000000</td>\n",
       "      <td>4.000000</td>\n",
       "      <td>25.000000</td>\n",
       "      <td>60.000000</td>\n",
       "      <td>0.900000</td>\n",
       "    </tr>\n",
       "  </tbody>\n",
       "</table>\n",
       "</div>"
      ],
      "text/plain": [
       "                 Age         Income     LoanAmount    CreditScore  \\\n",
       "count  109435.000000  109435.000000  109435.000000  109435.000000   \n",
       "mean       43.536483   82487.391036  127486.538667     574.665948   \n",
       "std        15.015927   38966.033421   70703.100952     158.800306   \n",
       "min        18.000000   15003.000000    5002.000000     300.000000   \n",
       "25%        31.000000   48745.000000   66173.500000     437.000000   \n",
       "50%        44.000000   82545.000000  127345.000000     575.000000   \n",
       "75%        57.000000  116184.000000  188674.000000     712.000000   \n",
       "max        69.000000  149999.000000  249995.000000     849.000000   \n",
       "\n",
       "       MonthsEmployed  NumCreditLines   InterestRate       LoanTerm  \\\n",
       "count   109435.000000   109435.000000  109435.000000  109435.000000   \n",
       "mean        59.576315        2.501037      13.496206      36.086298   \n",
       "std         34.548087        1.118149       6.647329      16.928304   \n",
       "min          0.000000        1.000000       2.000000      12.000000   \n",
       "25%         30.000000        2.000000       7.750000      24.000000   \n",
       "50%         60.000000        3.000000      13.500000      36.000000   \n",
       "75%         89.000000        4.000000      19.270000      48.000000   \n",
       "max        119.000000        4.000000      25.000000      60.000000   \n",
       "\n",
       "            DTIRatio  \n",
       "count  109435.000000  \n",
       "mean        0.500263  \n",
       "std         0.231246  \n",
       "min         0.100000  \n",
       "25%         0.300000  \n",
       "50%         0.500000  \n",
       "75%         0.700000  \n",
       "max         0.900000  "
      ]
     },
     "execution_count": 6,
     "metadata": {},
     "output_type": "execute_result"
    }
   ],
   "source": [
    "\n",
    "train_df.isnull().sum()\n",
    "test_df.isnull().sum()\n",
    "\n",
    "train_df.describe()\n",
    "test_df.describe()\n"
   ]
  },
  {
   "cell_type": "code",
   "execution_count": 8,
   "id": "c2912b70",
   "metadata": {},
   "outputs": [
    {
     "data": {
      "image/png": "[encoded data removed]",
      "text/plain": [
       "<Figure size 640x480 with 1 Axes>"
      ]
     },
     "metadata": {},
     "output_type": "display_data"
    }
   ],
   "source": [
    "sns.countplot(data=train_df, x=\"Default\")\n",
    "plt.title(\"Target Variable Distribution\")\n",
    "plt.show()"
   ]
  },
  {
   "cell_type": "code",
   "execution_count": 9,
   "id": "fb2773b6",
   "metadata": {},
   "outputs": [],
   "source": [
    "target = \"Default\"\n",
    "y = train_df[target]\n",
    "X = train_df.drop(columns=[target])"
   ]
  },
  {
   "cell_type": "code",
   "execution_count": 10,
   "id": "b8f4108f",
   "metadata": {},
   "outputs": [],
   "source": [
    "categorical_cols = [\"Education\", \"EmploymentType\", \"MaritalStatus\", \"LoanPurpose\"]\n",
    "binary_cols = [\"HasMortgage\", \"HasDependents\", \"HasCoSigner\"]\n",
    "numerical_cols = [col for col in X.columns if col not in categorical_cols + binary_cols + [\"LoanID\"]]\n"
   ]
  },
  {
   "cell_type": "code",
   "execution_count": 11,
   "id": "f061e474",
   "metadata": {},
   "outputs": [],
   "source": [
    "models = {\n",
    "    \"Logistic Regression\": LogisticRegression(max_iter=1000, solver='liblinear'),\n",
    "    \"Decision Tree\": DecisionTreeClassifier(max_depth=5, random_state=SEED),\n",
    "    \"Random Forest\": RandomForestClassifier(n_estimators=100, max_depth=7, random_state=SEED),\n",
    "    \"Gradient Boosting\": GradientBoostingClassifier(n_estimators=100, learning_rate=0.1, max_depth=4, random_state=SEED),\n",
    "    \"XGBoost\": XGBClassifier(use_label_encoder=False, eval_metric='logloss', n_estimators=100, learning_rate=0.1, max_depth=4, random_state=SEED),\n",
    "    \"LightGBM\": LGBMClassifier(n_estimators=100, learning_rate=0.1, max_depth=4, random_state=SEED),\n",
    "    \"CatBoost\": CatBoostClassifier(iterations=100, learning_rate=0.1, depth=4, verbose=0, random_state=SEED)}\n"
   ]
  },
  {
   "cell_type": "code",
   "execution_count": 12,
   "id": "636ed50b",
   "metadata": {},
   "outputs": [],
   "source": [
    "cv = StratifiedKFold(n_splits=5, shuffle=True, random_state=SEED)\n",
    "best_auc = 0\n",
    "best_model_name = \"\"\n",
    "best_pipeline = None\n",
    "auc_scores = {}"
   ]
  },
  {
   "cell_type": "code",
   "execution_count": 16,
   "id": "ad357082",
   "metadata": {},
   "outputs": [],
   "source": [
    "X = train_df.drop(columns=[\"Default\", \"LoanID\"])\n",
    "test_ids = test_df[\"LoanID\"]\n",
    "test_df = test_df.drop(columns=[\"LoanID\"])\n",
    "\n",
    "# Encode features\n",
    "X_encoded = encode_data(X)\n",
    "test_encoded = encode_data(test_df)\n"
   ]
  },
  {
   "cell_type": "code",
   "execution_count": 17,
   "id": "e69214ad",
   "metadata": {},
   "outputs": [
    {
     "name": "stdout",
     "output_type": "stream",
     "text": [
      "\n",
      "Evaluating models with 5-fold CV:\n",
      "\n",
      "Logistic Regression: AUC = 0.7268\n",
      "Decision Tree: AUC = 0.7127\n"
     ]
    },
    {
     "ename": "NameError",
     "evalue": "name 'preprocessor' is not defined",
     "output_type": "error",
     "traceback": [
      "\u001b[1;31m---------------------------------------------------------------------------\u001b[0m",
      "\u001b[1;31mNameError\u001b[0m                                 Traceback (most recent call last)",
      "Cell \u001b[1;32mIn[17], line 6\u001b[0m\n\u001b[0;32m      2\u001b[0m \u001b[38;5;28;01mfor\u001b[39;00m name, model \u001b[38;5;129;01min\u001b[39;00m models\u001b[38;5;241m.\u001b[39mitems():\n\u001b[0;32m      3\u001b[0m     X_input \u001b[38;5;241m=\u001b[39m X_encoded \u001b[38;5;28;01mif\u001b[39;00m name \u001b[38;5;129;01min\u001b[39;00m [\u001b[38;5;124m\"\u001b[39m\u001b[38;5;124mLogistic Regression\u001b[39m\u001b[38;5;124m\"\u001b[39m, \u001b[38;5;124m\"\u001b[39m\u001b[38;5;124mDecision Tree\u001b[39m\u001b[38;5;124m\"\u001b[39m] \u001b[38;5;28;01melse\u001b[39;00m X\n\u001b[0;32m      5\u001b[0m     pipeline \u001b[38;5;241m=\u001b[39m Pipeline([\n\u001b[1;32m----> 6\u001b[0m         (\u001b[38;5;124m\"\u001b[39m\u001b[38;5;124mpreprocessor\u001b[39m\u001b[38;5;124m\"\u001b[39m, preprocessor) \u001b[38;5;28;01mif\u001b[39;00m name \u001b[38;5;129;01mnot\u001b[39;00m \u001b[38;5;129;01min\u001b[39;00m [\u001b[38;5;124m\"\u001b[39m\u001b[38;5;124mLogistic Regression\u001b[39m\u001b[38;5;124m\"\u001b[39m, \u001b[38;5;124m\"\u001b[39m\u001b[38;5;124mDecision Tree\u001b[39m\u001b[38;5;124m\"\u001b[39m] \u001b[38;5;28;01melse\u001b[39;00m (\u001b[38;5;124m\"\u001b[39m\u001b[38;5;124midentity\u001b[39m\u001b[38;5;124m\"\u001b[39m, \u001b[38;5;124m\"\u001b[39m\u001b[38;5;124mpassthrough\u001b[39m\u001b[38;5;124m\"\u001b[39m),\n\u001b[0;32m      7\u001b[0m         (\u001b[38;5;124m\"\u001b[39m\u001b[38;5;124mclassifier\u001b[39m\u001b[38;5;124m\"\u001b[39m, model)\n\u001b[0;32m      8\u001b[0m     ])\n\u001b[0;32m      9\u001b[0m     scores \u001b[38;5;241m=\u001b[39m cross_val_score(pipeline, X_input, y, cv\u001b[38;5;241m=\u001b[39mcv, scoring\u001b[38;5;241m=\u001b[39m\u001b[38;5;124m'\u001b[39m\u001b[38;5;124mroc_auc\u001b[39m\u001b[38;5;124m'\u001b[39m)\n\u001b[0;32m     10\u001b[0m     mean_score \u001b[38;5;241m=\u001b[39m scores\u001b[38;5;241m.\u001b[39mmean()\n",
      "\u001b[1;31mNameError\u001b[0m: name 'preprocessor' is not defined"
     ]
    }
   ],
   "source": [
    "print(\"\\nEvaluating models with 5-fold CV:\\n\")\n",
    "for name, model in models.items():\n",
    "    X_input = X_encoded if name in [\"Logistic Regression\", \"Decision Tree\"] else X\n",
    "\n",
    "    pipeline = Pipeline([\n",
    "        (\"preprocessor\", preprocessor) if name not in [\"Logistic Regression\", \"Decision Tree\"] else (\"identity\", \"passthrough\"),\n",
    "        (\"classifier\", model)\n",
    "    ])\n",
    "    scores = cross_val_score(pipeline, X_input, y, cv=cv, scoring='roc_auc')\n",
    "    mean_score = scores.mean()\n",
    "    auc_scores[name] = mean_score\n",
    "    print(f\"{name}: AUC = {mean_score:.4f}\")\n",
    "    if mean_score > best_auc:\n",
    "        best_auc = mean_score\n",
    "        best_model_name = name\n",
    "        best_pipeline = pipeline\n",
    "        final_X = X_input"
   ]
  },
  {
   "cell_type": "code",
   "execution_count": 22,
   "id": "207e1ded",
   "metadata": {},
   "outputs": [
    {
     "data": {
      "image/png": "[encoded data removed]",
      "text/plain": [
       "<Figure size 1600x600 with 1 Axes>"
      ]
     },
     "metadata": {},
     "output_type": "display_data"
    },
    {
     "name": "stdout",
     "output_type": "stream",
     "text": [
      "\n",
      "✅ Best Model: Logistic Regression with AUC = 0.7268\n"
     ]
    }
   ],
   "source": [
    "plt.figure(figsize=(16,6))\n",
    "plt.barh(list(auc_scores.keys()), list(auc_scores.values()), color='skyblue')\n",
    "plt.xlabel(\"Mean AUC\")\n",
    "plt.title(\"Model AUC Comparison\")\n",
    "plt.tight_layout()\n",
    "plt.show()\n",
    "\n",
    "print(f\"\\n✅ Best Model: {best_model_name} with AUC = {best_auc:.4f}\")"
   ]
  },
  {
   "cell_type": "code",
   "execution_count": 23,
   "id": "f98777e4",
   "metadata": {},
   "outputs": [
    {
     "data": {
      "text/html": [
       "<style>#sk-container-id-1 {color: black;background-color: white;}#sk-container-id-1 pre{padding: 0;}#sk-container-id-1 div.sk-toggleable {background-color: white;}#sk-container-id-1 label.sk-toggleable__label {cursor: pointer;display: block;width: 100%;margin-bottom: 0;padding: 0.3em;box-sizing: border-box;text-align: center;}#sk-container-id-1 label.sk-toggleable__label-arrow:before {content: \"▸\";float: left;margin-right: 0.25em;color: #696969;}#sk-container-id-1 label.sk-toggleable__label-arrow:hover:before {color: black;}#sk-container-id-1 div.sk-estimator:hover label.sk-toggleable__label-arrow:before {color: black;}#sk-container-id-1 div.sk-toggleable__content {max-height: 0;max-width: 0;overflow: hidden;text-align: left;background-color: #f0f8ff;}#sk-container-id-1 div.sk-toggleable__content pre {margin: 0.2em;color: black;border-radius: 0.25em;background-color: #f0f8ff;}#sk-container-id-1 input.sk-toggleable__control:checked~div.sk-toggleable__content {max-height: 200px;max-width: 100%;overflow: auto;}#sk-container-id-1 input.sk-toggleable__control:checked~label.sk-toggleable__label-arrow:before {content: \"▾\";}#sk-container-id-1 div.sk-estimator input.sk-toggleable__control:checked~label.sk-toggleable__label {background-color: #d4ebff;}#sk-container-id-1 div.sk-label input.sk-toggleable__control:checked~label.sk-toggleable__label {background-color: #d4ebff;}#sk-container-id-1 input.sk-hidden--visually {border: 0;clip: rect(1px 1px 1px 1px);clip: rect(1px, 1px, 1px, 1px);height: 1px;margin: -1px;overflow: hidden;padding: 0;position: absolute;width: 1px;}#sk-container-id-1 div.sk-estimator {font-family: monospace;background-color: #f0f8ff;border: 1px dotted black;border-radius: 0.25em;box-sizing: border-box;margin-bottom: 0.5em;}#sk-container-id-1 div.sk-estimator:hover {background-color: #d4ebff;}#sk-container-id-1 div.sk-parallel-item::after {content: \"\";width: 100%;border-bottom: 1px solid gray;flex-grow: 1;}#sk-container-id-1 div.sk-label:hover label.sk-toggleable__label {background-color: #d4ebff;}#sk-container-id-1 div.sk-serial::before {content: \"\";position: absolute;border-left: 1px solid gray;box-sizing: border-box;top: 0;bottom: 0;left: 50%;z-index: 0;}#sk-container-id-1 div.sk-serial {display: flex;flex-direction: column;align-items: center;background-color: white;padding-right: 0.2em;padding-left: 0.2em;position: relative;}#sk-container-id-1 div.sk-item {position: relative;z-index: 1;}#sk-container-id-1 div.sk-parallel {display: flex;align-items: stretch;justify-content: center;background-color: white;position: relative;}#sk-container-id-1 div.sk-item::before, #sk-container-id-1 div.sk-parallel-item::before {content: \"\";position: absolute;border-left: 1px solid gray;box-sizing: border-box;top: 0;bottom: 0;left: 50%;z-index: -1;}#sk-container-id-1 div.sk-parallel-item {display: flex;flex-direction: column;z-index: 1;position: relative;background-color: white;}#sk-container-id-1 div.sk-parallel-item:first-child::after {align-self: flex-end;width: 50%;}#sk-container-id-1 div.sk-parallel-item:last-child::after {align-self: flex-start;width: 50%;}#sk-container-id-1 div.sk-parallel-item:only-child::after {width: 0;}#sk-container-id-1 div.sk-dashed-wrapped {border: 1px dashed gray;margin: 0 0.4em 0.5em 0.4em;box-sizing: border-box;padding-bottom: 0.4em;background-color: white;}#sk-container-id-1 div.sk-label label {font-family: monospace;font-weight: bold;display: inline-block;line-height: 1.2em;}#sk-container-id-1 div.sk-label-container {text-align: center;}#sk-container-id-1 div.sk-container {/* jupyter's `normalize.less` sets `[hidden] { display: none; }` but bootstrap.min.css set `[hidden] { display: none !important; }` so we also need the `!important` here to be able to override the default hidden behavior on the sphinx rendered scikit-learn.org. See: https://github.com/scikit-learn/scikit-learn/issues/21755 */display: inline-block !important;position: relative;}#sk-container-id-1 div.sk-text-repr-fallback {display: none;}</style><div id=\"sk-container-id-1\" class=\"sk-top-container\"><div class=\"sk-text-repr-fallback\"><pre>Pipeline(steps=[(&#x27;identity&#x27;, &#x27;passthrough&#x27;),\n",
       "                (&#x27;classifier&#x27;,\n",
       "                 LogisticRegression(max_iter=1000, solver=&#x27;liblinear&#x27;))])</pre><b>In a Jupyter environment, please rerun this cell to show the HTML representation or trust the notebook. <br />On GitHub, the HTML representation is unable to render, please try loading this page with nbviewer.org.</b></div><div class=\"sk-container\" hidden><div class=\"sk-item sk-dashed-wrapped\"><div class=\"sk-label-container\"><div class=\"sk-label sk-toggleable\"><input class=\"sk-toggleable__control sk-hidden--visually\" id=\"sk-estimator-id-1\" type=\"checkbox\" ><label for=\"sk-estimator-id-1\" class=\"sk-toggleable__label sk-toggleable__label-arrow\">Pipeline</label><div class=\"sk-toggleable__content\"><pre>Pipeline(steps=[(&#x27;identity&#x27;, &#x27;passthrough&#x27;),\n",
       "                (&#x27;classifier&#x27;,\n",
       "                 LogisticRegression(max_iter=1000, solver=&#x27;liblinear&#x27;))])</pre></div></div></div><div class=\"sk-serial\"><div class=\"sk-item\"><div class=\"sk-estimator sk-toggleable\"><input class=\"sk-toggleable__control sk-hidden--visually\" id=\"sk-estimator-id-2\" type=\"checkbox\" ><label for=\"sk-estimator-id-2\" class=\"sk-toggleable__label sk-toggleable__label-arrow\">passthrough</label><div class=\"sk-toggleable__content\"><pre>passthrough</pre></div></div></div><div class=\"sk-item\"><div class=\"sk-estimator sk-toggleable\"><input class=\"sk-toggleable__control sk-hidden--visually\" id=\"sk-estimator-id-3\" type=\"checkbox\" ><label for=\"sk-estimator-id-3\" class=\"sk-toggleable__label sk-toggleable__label-arrow\">LogisticRegression</label><div class=\"sk-toggleable__content\"><pre>LogisticRegression(max_iter=1000, solver=&#x27;liblinear&#x27;)</pre></div></div></div></div></div></div></div>"
      ],
      "text/plain": [
       "Pipeline(steps=[('identity', 'passthrough'),\n",
       "                ('classifier',\n",
       "                 LogisticRegression(max_iter=1000, solver='liblinear'))])"
      ]
     },
     "execution_count": 23,
     "metadata": {},
     "output_type": "execute_result"
    }
   ],
   "source": [
    "best_pipeline.fit(final_X, y)"
   ]
  },
  {
   "cell_type": "code",
   "execution_count": 25,
   "id": "6c2b43cb",
   "metadata": {},
   "outputs": [],
   "source": [
    "X_test_input = test_encoded if best_model_name in [\"Logistic Regression\", \"Decision Tree\"] else test_df\n",
    "predicted_proba = best_pipeline.predict_proba(X_test_input)[:, 1]\n"
   ]
  },
  {
   "cell_type": "code",
   "execution_count": 28,
   "id": "29340d52",
   "metadata": {},
   "outputs": [
    {
     "name": "stdout",
     "output_type": "stream",
     "text": [
      "✅ submission.csv has been created.\n"
     ]
    }
   ],
   "source": [
    "prediction_df = pd.DataFrame({\n",
    "    \"LoanID\": test_ids,\n",
    "    \"predicted_probability\": predicted_proba\n",
    "})\n",
    "\n",
    "\n",
    "assert prediction_df.shape == (109435, 2)\n",
    "assert list(prediction_df.columns) == [\"LoanID\", \"predicted_probability\"]\n",
    "\n",
    "prediction_df.to_csv(\"submission.csv\", index=False)\n",
    "print(\"✅ submission.csv has been created.\")"
   ]
  },
  {
   "cell_type": "code",
   "execution_count": 29,
   "id": "d972f1e9",
   "metadata": {},
   "outputs": [
    {
     "name": "stdout",
     "output_type": "stream",
     "text": [
      "Training Accuracy of Best Model: 0.8843\n"
     ]
    }
   ],
   "source": [
    "from sklearn.metrics import accuracy_score\n",
    "\n",
    "y_pred = best_pipeline.predict(final_X)\n",
    "acc = accuracy_score(y, y_pred)\n",
    "print(f\"Training Accuracy of Best Model: {acc:.4f}\")\n"
   ]
  }
 ],
 "metadata": {
  "kernelspec": {
   "display_name": "Python 3 (ipykernel)",
   "language": "python",
   "name": "python3"
  },
  "language_info": {
   "codemirror_mode": {
    "name": "ipython",
    "version": 3
   },
   "file_extension": ".py",
   "mimetype": "text/x-python",
   "name": "python",
   "nbconvert_exporter": "python",
   "pygments_lexer": "ipython3",
   "version": "3.11.7"
  }
 },
 "nbformat": 4,
 "nbformat_minor": 5
}
